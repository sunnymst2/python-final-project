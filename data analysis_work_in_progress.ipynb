{
 "cells": [
  {
   "cell_type": "code",
   "execution_count": 3,
   "metadata": {},
   "outputs": [],
   "source": [
    "import pandas as pd"
   ]
  },
  {
   "cell_type": "code",
   "execution_count": 4,
   "metadata": {},
   "outputs": [
    {
     "data": {
      "text/html": [
       "<div>\n",
       "<style scoped>\n",
       "    .dataframe tbody tr th:only-of-type {\n",
       "        vertical-align: middle;\n",
       "    }\n",
       "\n",
       "    .dataframe tbody tr th {\n",
       "        vertical-align: top;\n",
       "    }\n",
       "\n",
       "    .dataframe thead th {\n",
       "        text-align: right;\n",
       "    }\n",
       "</style>\n",
       "<table border=\"1\" class=\"dataframe\">\n",
       "  <thead>\n",
       "    <tr style=\"text-align: right;\">\n",
       "      <th></th>\n",
       "      <th>masked_id</th>\n",
       "      <th>masked_name</th>\n",
       "      <th>masked_designation</th>\n",
       "      <th>BR_or_HO</th>\n",
       "      <th>course_code</th>\n",
       "      <th>Category</th>\n",
       "      <th>Type</th>\n",
       "      <th>Credit Days</th>\n",
       "      <th>End Date</th>\n",
       "      <th>Year</th>\n",
       "      <th>Month</th>\n",
       "    </tr>\n",
       "  </thead>\n",
       "  <tbody>\n",
       "    <tr>\n",
       "      <th>13</th>\n",
       "      <td>1</td>\n",
       "      <td>name1</td>\n",
       "      <td>Mgr</td>\n",
       "      <td>BR</td>\n",
       "      <td>14</td>\n",
       "      <td>MDM</td>\n",
       "      <td>IC</td>\n",
       "      <td>0.0</td>\n",
       "      <td>2018-03-10</td>\n",
       "      <td>2018</td>\n",
       "      <td>3</td>\n",
       "    </tr>\n",
       "    <tr>\n",
       "      <th>14</th>\n",
       "      <td>2</td>\n",
       "      <td>name2</td>\n",
       "      <td>Ctc</td>\n",
       "      <td>BR</td>\n",
       "      <td>3</td>\n",
       "      <td>Regulations</td>\n",
       "      <td>EL</td>\n",
       "      <td>0.4</td>\n",
       "      <td>2018-04-18</td>\n",
       "      <td>2018</td>\n",
       "      <td>4</td>\n",
       "    </tr>\n",
       "    <tr>\n",
       "      <th>15</th>\n",
       "      <td>2</td>\n",
       "      <td>name2</td>\n",
       "      <td>Ctc</td>\n",
       "      <td>BR</td>\n",
       "      <td>4</td>\n",
       "      <td>Regulations - Anti Money Laundering</td>\n",
       "      <td>EL</td>\n",
       "      <td>0.5</td>\n",
       "      <td>2018-10-25</td>\n",
       "      <td>2018</td>\n",
       "      <td>10</td>\n",
       "    </tr>\n",
       "    <tr>\n",
       "      <th>16</th>\n",
       "      <td>2</td>\n",
       "      <td>name2</td>\n",
       "      <td>Ctc</td>\n",
       "      <td>BR</td>\n",
       "      <td>5</td>\n",
       "      <td>Regulations - Anti Money Laundering</td>\n",
       "      <td>EL</td>\n",
       "      <td>0.8</td>\n",
       "      <td>2018-12-30</td>\n",
       "      <td>2018</td>\n",
       "      <td>12</td>\n",
       "    </tr>\n",
       "    <tr>\n",
       "      <th>17</th>\n",
       "      <td>2</td>\n",
       "      <td>name2</td>\n",
       "      <td>Ctc</td>\n",
       "      <td>BR</td>\n",
       "      <td>6</td>\n",
       "      <td>MDM - Leadership &amp; Work Culture</td>\n",
       "      <td>EL</td>\n",
       "      <td>0.2</td>\n",
       "      <td>2018-12-30</td>\n",
       "      <td>2018</td>\n",
       "      <td>12</td>\n",
       "    </tr>\n",
       "    <tr>\n",
       "      <th>18</th>\n",
       "      <td>2</td>\n",
       "      <td>name2</td>\n",
       "      <td>Ctc</td>\n",
       "      <td>BR</td>\n",
       "      <td>8</td>\n",
       "      <td>IT and Office Automation</td>\n",
       "      <td>EL</td>\n",
       "      <td>0.1</td>\n",
       "      <td>2018-07-08</td>\n",
       "      <td>2018</td>\n",
       "      <td>7</td>\n",
       "    </tr>\n",
       "    <tr>\n",
       "      <th>19</th>\n",
       "      <td>2</td>\n",
       "      <td>name2</td>\n",
       "      <td>Ctc</td>\n",
       "      <td>BR</td>\n",
       "      <td>15</td>\n",
       "      <td>Regulations</td>\n",
       "      <td>IC</td>\n",
       "      <td>2.0</td>\n",
       "      <td>2018-03-30</td>\n",
       "      <td>2018</td>\n",
       "      <td>3</td>\n",
       "    </tr>\n",
       "    <tr>\n",
       "      <th>20</th>\n",
       "      <td>2</td>\n",
       "      <td>name2</td>\n",
       "      <td>Ctc</td>\n",
       "      <td>BR</td>\n",
       "      <td>13</td>\n",
       "      <td>Regulations</td>\n",
       "      <td>EL</td>\n",
       "      <td>0.3</td>\n",
       "      <td>2018-04-18</td>\n",
       "      <td>2018</td>\n",
       "      <td>4</td>\n",
       "    </tr>\n",
       "    <tr>\n",
       "      <th>21</th>\n",
       "      <td>3</td>\n",
       "      <td>name3</td>\n",
       "      <td>Ctc</td>\n",
       "      <td>BR</td>\n",
       "      <td>3</td>\n",
       "      <td>Regulations</td>\n",
       "      <td>EL</td>\n",
       "      <td>0.4</td>\n",
       "      <td>2018-03-13</td>\n",
       "      <td>2018</td>\n",
       "      <td>3</td>\n",
       "    </tr>\n",
       "    <tr>\n",
       "      <th>22</th>\n",
       "      <td>3</td>\n",
       "      <td>name3</td>\n",
       "      <td>Ctc</td>\n",
       "      <td>BR</td>\n",
       "      <td>4</td>\n",
       "      <td>Regulations - Anti Money Laundering</td>\n",
       "      <td>EL</td>\n",
       "      <td>0.5</td>\n",
       "      <td>2018-10-10</td>\n",
       "      <td>2018</td>\n",
       "      <td>10</td>\n",
       "    </tr>\n",
       "    <tr>\n",
       "      <th>23</th>\n",
       "      <td>3</td>\n",
       "      <td>name3</td>\n",
       "      <td>Ctc</td>\n",
       "      <td>BR</td>\n",
       "      <td>6</td>\n",
       "      <td>MDM - Leadership &amp; Work Culture</td>\n",
       "      <td>EL</td>\n",
       "      <td>0.2</td>\n",
       "      <td>2018-12-06</td>\n",
       "      <td>2018</td>\n",
       "      <td>12</td>\n",
       "    </tr>\n",
       "    <tr>\n",
       "      <th>24</th>\n",
       "      <td>3</td>\n",
       "      <td>name3</td>\n",
       "      <td>Ctc</td>\n",
       "      <td>BR</td>\n",
       "      <td>16</td>\n",
       "      <td>MDM - Others</td>\n",
       "      <td>EL</td>\n",
       "      <td>0.7</td>\n",
       "      <td>2018-12-06</td>\n",
       "      <td>2018</td>\n",
       "      <td>12</td>\n",
       "    </tr>\n",
       "    <tr>\n",
       "      <th>25</th>\n",
       "      <td>3</td>\n",
       "      <td>name3</td>\n",
       "      <td>Ctc</td>\n",
       "      <td>BR</td>\n",
       "      <td>17</td>\n",
       "      <td>Regulations</td>\n",
       "      <td>EL</td>\n",
       "      <td>0.3</td>\n",
       "      <td>2018-04-17</td>\n",
       "      <td>2018</td>\n",
       "      <td>4</td>\n",
       "    </tr>\n",
       "    <tr>\n",
       "      <th>26</th>\n",
       "      <td>3</td>\n",
       "      <td>name3</td>\n",
       "      <td>Ctc</td>\n",
       "      <td>BR</td>\n",
       "      <td>8</td>\n",
       "      <td>IT and Office Automation</td>\n",
       "      <td>EL</td>\n",
       "      <td>0.1</td>\n",
       "      <td>2018-07-27</td>\n",
       "      <td>2018</td>\n",
       "      <td>7</td>\n",
       "    </tr>\n",
       "    <tr>\n",
       "      <th>27</th>\n",
       "      <td>3</td>\n",
       "      <td>name3</td>\n",
       "      <td>Ctc</td>\n",
       "      <td>BR</td>\n",
       "      <td>10</td>\n",
       "      <td>Islamic Banking</td>\n",
       "      <td>EL</td>\n",
       "      <td>0.1</td>\n",
       "      <td>2018-06-14</td>\n",
       "      <td>2018</td>\n",
       "      <td>6</td>\n",
       "    </tr>\n",
       "    <tr>\n",
       "      <th>28</th>\n",
       "      <td>3</td>\n",
       "      <td>name3</td>\n",
       "      <td>Ctc</td>\n",
       "      <td>BR</td>\n",
       "      <td>18</td>\n",
       "      <td>Regulations</td>\n",
       "      <td>IC</td>\n",
       "      <td>1.0</td>\n",
       "      <td>2018-11-12</td>\n",
       "      <td>2018</td>\n",
       "      <td>11</td>\n",
       "    </tr>\n",
       "    <tr>\n",
       "      <th>29</th>\n",
       "      <td>4</td>\n",
       "      <td>name4</td>\n",
       "      <td>Ctc</td>\n",
       "      <td>BR</td>\n",
       "      <td>19</td>\n",
       "      <td>Frontline Banking Operations</td>\n",
       "      <td>IC</td>\n",
       "      <td>3.0</td>\n",
       "      <td>2018-01-10</td>\n",
       "      <td>2018</td>\n",
       "      <td>1</td>\n",
       "    </tr>\n",
       "  </tbody>\n",
       "</table>\n",
       "</div>"
      ],
      "text/plain": [
       "    masked_id masked_name masked_designation BR_or_HO  course_code  \\\n",
       "13          1       name1                Mgr       BR           14   \n",
       "14          2       name2                Ctc       BR            3   \n",
       "15          2       name2                Ctc       BR            4   \n",
       "16          2       name2                Ctc       BR            5   \n",
       "17          2       name2                Ctc       BR            6   \n",
       "18          2       name2                Ctc       BR            8   \n",
       "19          2       name2                Ctc       BR           15   \n",
       "20          2       name2                Ctc       BR           13   \n",
       "21          3       name3                Ctc       BR            3   \n",
       "22          3       name3                Ctc       BR            4   \n",
       "23          3       name3                Ctc       BR            6   \n",
       "24          3       name3                Ctc       BR           16   \n",
       "25          3       name3                Ctc       BR           17   \n",
       "26          3       name3                Ctc       BR            8   \n",
       "27          3       name3                Ctc       BR           10   \n",
       "28          3       name3                Ctc       BR           18   \n",
       "29          4       name4                Ctc       BR           19   \n",
       "\n",
       "                               Category Type  Credit Days    End Date  Year  \\\n",
       "13                                  MDM   IC          0.0  2018-03-10  2018   \n",
       "14                          Regulations   EL          0.4  2018-04-18  2018   \n",
       "15  Regulations - Anti Money Laundering   EL          0.5  2018-10-25  2018   \n",
       "16  Regulations - Anti Money Laundering   EL          0.8  2018-12-30  2018   \n",
       "17      MDM - Leadership & Work Culture   EL          0.2  2018-12-30  2018   \n",
       "18             IT and Office Automation   EL          0.1  2018-07-08  2018   \n",
       "19                          Regulations   IC          2.0  2018-03-30  2018   \n",
       "20                          Regulations   EL          0.3  2018-04-18  2018   \n",
       "21                          Regulations   EL          0.4  2018-03-13  2018   \n",
       "22  Regulations - Anti Money Laundering   EL          0.5  2018-10-10  2018   \n",
       "23      MDM - Leadership & Work Culture   EL          0.2  2018-12-06  2018   \n",
       "24                         MDM - Others   EL          0.7  2018-12-06  2018   \n",
       "25                          Regulations   EL          0.3  2018-04-17  2018   \n",
       "26             IT and Office Automation   EL          0.1  2018-07-27  2018   \n",
       "27                      Islamic Banking   EL          0.1  2018-06-14  2018   \n",
       "28                          Regulations   IC          1.0  2018-11-12  2018   \n",
       "29         Frontline Banking Operations   IC          3.0  2018-01-10  2018   \n",
       "\n",
       "    Month  \n",
       "13      3  \n",
       "14      4  \n",
       "15     10  \n",
       "16     12  \n",
       "17     12  \n",
       "18      7  \n",
       "19      3  \n",
       "20      4  \n",
       "21      3  \n",
       "22     10  \n",
       "23     12  \n",
       "24     12  \n",
       "25      4  \n",
       "26      7  \n",
       "27      6  \n",
       "28     11  \n",
       "29      1  "
      ]
     },
     "execution_count": 4,
     "metadata": {},
     "output_type": "execute_result"
    }
   ],
   "source": [
    "df = pd.read_csv(\"maskedconso.csv\")\n",
    "df[13:30]"
   ]
  },
  {
   "cell_type": "code",
   "execution_count": 8,
   "metadata": {},
   "outputs": [
    {
     "name": "stdout",
     "output_type": "stream",
     "text": [
      "<class 'pandas.core.frame.DataFrame'>\n",
      "Int64Index: 12420 entries, 0 to 12419\n",
      "Data columns (total 11 columns):\n",
      " #   Column              Non-Null Count  Dtype  \n",
      "---  ------              --------------  -----  \n",
      " 0   masked_id           12420 non-null  int64  \n",
      " 1   masked_name         12420 non-null  object \n",
      " 2   masked_designation  12420 non-null  object \n",
      " 3   BR_or_HO            12420 non-null  object \n",
      " 4   course_code         12420 non-null  int64  \n",
      " 5   Category            12420 non-null  object \n",
      " 6   Type                12420 non-null  object \n",
      " 7   Credit Days         12420 non-null  float64\n",
      " 8   End Date            12420 non-null  object \n",
      " 9   Year                12420 non-null  int64  \n",
      " 10  Month               12420 non-null  int64  \n",
      "dtypes: float64(1), int64(4), object(6)\n",
      "memory usage: 1.1+ MB\n"
     ]
    }
   ],
   "source": [
    "mask_2018 = df[\"Year\"] == 2018\n",
    "df[mask_2018].info()"
   ]
  },
  {
   "cell_type": "code",
   "execution_count": 9,
   "metadata": {},
   "outputs": [
    {
     "name": "stdout",
     "output_type": "stream",
     "text": [
      "<class 'pandas.core.frame.DataFrame'>\n",
      "Int64Index: 17910 entries, 12420 to 30329\n",
      "Data columns (total 11 columns):\n",
      " #   Column              Non-Null Count  Dtype  \n",
      "---  ------              --------------  -----  \n",
      " 0   masked_id           17910 non-null  int64  \n",
      " 1   masked_name         17910 non-null  object \n",
      " 2   masked_designation  17910 non-null  object \n",
      " 3   BR_or_HO            17910 non-null  object \n",
      " 4   course_code         17910 non-null  int64  \n",
      " 5   Category            17910 non-null  object \n",
      " 6   Type                17910 non-null  object \n",
      " 7   Credit Days         17910 non-null  float64\n",
      " 8   End Date            17910 non-null  object \n",
      " 9   Year                17910 non-null  int64  \n",
      " 10  Month               17910 non-null  int64  \n",
      "dtypes: float64(1), int64(4), object(6)\n",
      "memory usage: 1.6+ MB\n"
     ]
    }
   ],
   "source": [
    "mask_2019 = df[\"Year\"] == 2019\n",
    "df[mask_2019].info()"
   ]
  },
  {
   "cell_type": "code",
   "execution_count": 10,
   "metadata": {},
   "outputs": [
    {
     "name": "stdout",
     "output_type": "stream",
     "text": [
      "<class 'pandas.core.frame.DataFrame'>\n",
      "Int64Index: 28840 entries, 30330 to 59169\n",
      "Data columns (total 11 columns):\n",
      " #   Column              Non-Null Count  Dtype  \n",
      "---  ------              --------------  -----  \n",
      " 0   masked_id           28840 non-null  int64  \n",
      " 1   masked_name         28840 non-null  object \n",
      " 2   masked_designation  28840 non-null  object \n",
      " 3   BR_or_HO            28840 non-null  object \n",
      " 4   course_code         28840 non-null  int64  \n",
      " 5   Category            28840 non-null  object \n",
      " 6   Type                28840 non-null  object \n",
      " 7   Credit Days         28840 non-null  float64\n",
      " 8   End Date            28840 non-null  object \n",
      " 9   Year                28840 non-null  int64  \n",
      " 10  Month               28840 non-null  int64  \n",
      "dtypes: float64(1), int64(4), object(6)\n",
      "memory usage: 2.6+ MB\n"
     ]
    }
   ],
   "source": [
    "mask_2020 = df[\"Year\"] == 2020\n",
    "df[mask_2020].info()"
   ]
  },
  {
   "cell_type": "code",
   "execution_count": 11,
   "metadata": {},
   "outputs": [],
   "source": [
    "df_18 = df[mask_2018]\n",
    "df_19 = df[mask_2019]\n",
    "df_20 = df[mask_2020]"
   ]
  },
  {
   "cell_type": "code",
   "execution_count": 12,
   "metadata": {},
   "outputs": [
    {
     "data": {
      "text/plain": [
       "995"
      ]
     },
     "execution_count": 12,
     "metadata": {},
     "output_type": "execute_result"
    }
   ],
   "source": [
    "len(df_18['masked_id'].unique())"
   ]
  },
  {
   "cell_type": "code",
   "execution_count": 13,
   "metadata": {},
   "outputs": [
    {
     "data": {
      "text/plain": [
       "996"
      ]
     },
     "execution_count": 13,
     "metadata": {},
     "output_type": "execute_result"
    }
   ],
   "source": [
    "len(df_19['masked_id'].unique())"
   ]
  },
  {
   "cell_type": "code",
   "execution_count": 14,
   "metadata": {},
   "outputs": [
    {
     "data": {
      "text/plain": [
       "996"
      ]
     },
     "execution_count": 14,
     "metadata": {},
     "output_type": "execute_result"
    }
   ],
   "source": [
    "len(df_20['masked_id'].unique())"
   ]
  },
  {
   "cell_type": "markdown",
   "metadata": {},
   "source": [
    "# Calculate average Training Days per staff for 2018, 2019 & 2020 based on user selection"
   ]
  },
  {
   "cell_type": "code",
   "execution_count": 48,
   "metadata": {},
   "outputs": [
    {
     "name": "stdout",
     "output_type": "stream",
     "text": [
      "Please key in year (2018, 2019 or 2020) :2020\n",
      "In 2020, on average each staff attended 9.9 days of training\n"
     ]
    }
   ],
   "source": [
    "year = input(\"Please key in year (2018, 2019 or 2020) :\")\n",
    "\n",
    "mask = df[\"Year\"] == int(year)\n",
    "\n",
    "print(f\"In {year}, on average each staff attended {round(df[mask]['Credit Days'].sum()/len(df[mask]['masked_id'].unique()),1)} days of training\")"
   ]
  },
  {
   "cell_type": "markdown",
   "metadata": {},
   "source": [
    "# Check the distribution of training days per staff for each year based on user selection"
   ]
  },
  {
   "cell_type": "code",
   "execution_count": 53,
   "metadata": {},
   "outputs": [],
   "source": [
    "from matplotlib import pyplot as plt\n",
    "import statistics as stt"
   ]
  },
  {
   "cell_type": "code",
   "execution_count": 69,
   "metadata": {},
   "outputs": [
    {
     "name": "stdout",
     "output_type": "stream",
     "text": [
      "Please key in year (2018, 2019 or 2020) :2019\n"
     ]
    }
   ],
   "source": [
    "year = int(input(\"Please key in year (2018, 2019 or 2020) :\"))\n",
    "\n",
    "mask = df[\"Year\"] == year\n",
    "\n",
    "individual_training_days = []\n",
    "\n",
    "i = 0\n",
    "\n",
    "while i < len(df[mask]['masked_id'].unique()):\n",
    "    current_id = df[mask]['masked_id'] == df[mask]['masked_id'].unique()[i]\n",
    "    individual_training_days.append(round(df[mask].loc[current_id,'Credit Days'].sum(),1))\n",
    "    i+=1"
   ]
  },
  {
   "cell_type": "code",
   "execution_count": 70,
   "metadata": {},
   "outputs": [
    {
     "name": "stdout",
     "output_type": "stream",
     "text": [
      "Lowest training day per staff in 2019 is 0.2\n",
      "Median training day per staff in 2019 is 8.4\n",
      "Highest training day per staff in 2019 is 30.5\n"
     ]
    }
   ],
   "source": [
    "print(f\"Lowest training day per staff in {year} is {round(min(individual_training_days),1)}\")\n",
    "print(f\"Median training day per staff in {year} is {round(stt.median(individual_training_days),1)}\")\n",
    "print(f\"Highest training day per staff in {year} is {round(max(individual_training_days),1)}\")"
   ]
  },
  {
   "cell_type": "code",
   "execution_count": 71,
   "metadata": {},
   "outputs": [
    {
     "data": {
      "image/png": "[encoded data removed]",
      "text/plain": [
       "<Figure size 720x576 with 1 Axes>"
      ]
     },
     "metadata": {},
     "output_type": "display_data"
    }
   ],
   "source": [
    "plt.style.use(\"seaborn\")\n",
    "plt.rc('figure', figsize=(10,8))\n",
    "\n",
    "\n",
    "plt.hist(individual_training_days,bins='auto', edgecolor = 'black', linewidth = 3)\n",
    "plt.xlabel(\"Training Days\")\n",
    "plt.show(\"Y Label\")"
   ]
  },
  {
   "cell_type": "markdown",
   "metadata": {},
   "source": [
    "# Compile total training day per staff per year into a dictionary"
   ]
  },
  {
   "cell_type": "code",
   "execution_count": 72,
   "metadata": {},
   "outputs": [],
   "source": [
    "yearly_training_data = {}\n",
    "\n",
    "for y in [2018,2019,2020]:\n",
    "    \n",
    "    mask = df[\"Year\"] == y\n",
    "\n",
    "    individual_training_days = []\n",
    "\n",
    "    i = 0\n",
    "\n",
    "    while i < len(df[mask]['masked_id'].unique()):\n",
    "        current_id = df[mask]['masked_id'] == df[mask]['masked_id'].unique()[i]\n",
    "        individual_training_days.append(round(df[mask].loc[current_id,'Credit Days'].sum(),1))\n",
    "        i+=1\n",
    "    \n",
    "    yearly_training_data[y] = individual_training_days"
   ]
  },
  {
   "cell_type": "markdown",
   "metadata": {},
   "source": [
    "# Check the distribution of training days per staff for each year based on user selection"
   ]
  },
  {
   "cell_type": "code",
   "execution_count": 87,
   "metadata": {},
   "outputs": [
    {
     "name": "stdout",
     "output_type": "stream",
     "text": [
      "Please key in year (2018, 2019 or 2020) :2020\n"
     ]
    },
    {
     "data": {
      "text/plain": [
       "9.93504016064257"
      ]
     },
     "execution_count": 87,
     "metadata": {},
     "output_type": "execute_result"
    }
   ],
   "source": [
    "year = int(input(\"Please key in year (2018, 2019 or 2020) :\"))\n",
    "\n",
    "#print(f\"average training days = {sum(yearly_training_data[year])/len(yearly_training_data[year])}\")\n",
    "#print(sum(individual_training_days)/len(individual_training_days))\n",
    "\n",
    "stt.mean(yearly_training_data[year])"
   ]
  },
  {
   "cell_type": "code",
   "execution_count": 93,
   "metadata": {},
   "outputs": [
    {
     "data": {
      "image/png": "[encoded data removed]",
      "text/plain": [
       "<Figure size 720x576 with 1 Axes>"
      ]
     },
     "metadata": {},
     "output_type": "display_data"
    }
   ],
   "source": [
    "plt.hist(yearly_training_data[2018], bins, alpha=0.5, label='2018')\n",
    "#plt.hist(yearly_training_data[2019], bins, alpha=0.5, label='2019')\n",
    "plt.hist(yearly_training_data[2020], bins, alpha=0.5, label='2020')\n",
    "plt.legend(loc='upper right')\n",
    "plt.show()"
   ]
  },
  {
   "cell_type": "code",
   "execution_count": null,
   "metadata": {},
   "outputs": [],
   "source": []
  },
  {
   "cell_type": "code",
   "execution_count": null,
   "metadata": {},
   "outputs": [],
   "source": []
  }
 ],
 "metadata": {
  "kernelspec": {
   "display_name": "Python 3",
   "language": "python",
   "name": "python3"
  },
  "language_info": {
   "codemirror_mode": {
    "name": "ipython",
    "version": 3
   },
   "file_extension": ".py",
   "mimetype": "text/x-python",
   "name": "python",
   "nbconvert_exporter": "python",
   "pygments_lexer": "ipython3",
   "version": "3.8.3"
  }
 },
 "nbformat": 4,
 "nbformat_minor": 4
}

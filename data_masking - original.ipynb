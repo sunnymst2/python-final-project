{
 "cells": [
  {
   "cell_type": "code",
   "execution_count": 1,
   "metadata": {},
   "outputs": [],
   "source": [
    "import pandas as pd\n",
    "\n",
    "# Read excel containing the original data to be masked\n",
    "\n",
    "original = pd.read_excel(\"consolidated2018to2020.xlsx\")  "
   ]
  },
  {
   "cell_type": "markdown",
   "metadata": {},
   "source": [
    "# Masking Staff ID to 'X', where X = index+1 of list containing unique original Staff IDs"
   ]
  },
  {
   "cell_type": "code",
   "execution_count": 2,
   "metadata": {},
   "outputs": [
    {
     "name": "stdout",
     "output_type": "stream",
     "text": [
      "<class 'pandas.core.frame.DataFrame'>\n",
      "RangeIndex: 59170 entries, 0 to 59169\n",
      "Data columns (total 12 columns):\n",
      " #   Column       Non-Null Count  Dtype         \n",
      "---  ------       --------------  -----         \n",
      " 0   Staff No.    59170 non-null  int64         \n",
      " 1   Staff        59170 non-null  object        \n",
      " 2   Designation  59170 non-null  object        \n",
      " 3   Branch       59170 non-null  object        \n",
      " 4   Division     59170 non-null  object        \n",
      " 5   Department   59170 non-null  object        \n",
      " 6   Category     59170 non-null  object        \n",
      " 7   Type         59170 non-null  object        \n",
      " 8   Course Name  59170 non-null  object        \n",
      " 9   Credit Days  59170 non-null  float64       \n",
      " 10  End Date     59170 non-null  datetime64[ns]\n",
      " 11  Picked       59170 non-null  object        \n",
      "dtypes: datetime64[ns](1), float64(1), int64(1), object(9)\n",
      "memory usage: 5.4+ MB\n"
     ]
    }
   ],
   "source": [
    "original.info()"
   ]
  },
  {
   "cell_type": "code",
   "execution_count": 3,
   "metadata": {},
   "outputs": [
    {
     "data": {
      "text/plain": [
       "996"
      ]
     },
     "execution_count": 3,
     "metadata": {},
     "output_type": "execute_result"
    }
   ],
   "source": [
    "#Creating list of unique original staff IDs\n",
    "\n",
    "unique_id = original['Staff No.'].unique().tolist()\n",
    "\n",
    "len(unique_id) #check number of unique staff"
   ]
  },
  {
   "cell_type": "code",
   "execution_count": 4,
   "metadata": {},
   "outputs": [],
   "source": [
    "# Note: original staff sample = 1000, but unique no of staff from 3 year consolidated training data = 996.\n",
    "# This is due to 4 staff had never attended any training in past 3 years"
   ]
  },
  {
   "cell_type": "code",
   "execution_count": 6,
   "metadata": {},
   "outputs": [],
   "source": [
    "def mask_id(x):\n",
    "    return unique_id.index(x)+1\n",
    "\n",
    "original['masked_id'] = original['Staff No.'].apply(mask_id)"
   ]
  },
  {
   "cell_type": "markdown",
   "metadata": {},
   "source": [
    "# Masking Staff Name to 'nameX', where X = masked_id"
   ]
  },
  {
   "cell_type": "code",
   "execution_count": 8,
   "metadata": {},
   "outputs": [],
   "source": [
    "def mask_name(x):\n",
    "    return 'name'+str(x)\n",
    "\n",
    "original['masked_name'] = original['masked_id'].apply(mask_name)"
   ]
  },
  {
   "cell_type": "markdown",
   "metadata": {},
   "source": [
    "# Masking actual designations with general category of designation"
   ]
  },
  {
   "cell_type": "code",
   "execution_count": 11,
   "metadata": {},
   "outputs": [],
   "source": [
    "# define a dictionary of actual designations and the corresponding general category = Mgr, Exc, or Ctc\n",
    "\n",
    "job_category = {\n",
    "    'BKNG SERVICES MGR' : 'Mgr',\n",
    "    'CLERK/TYPIST/CASHIER' : 'Ctc',\n",
    "    'BRANCH MANAGER' : 'Mgr',\n",
    "    'SENIOR EXECUTIVE' : 'Exc',\n",
    "    'EXECUTIVE' : 'Exc',\n",
    "    'RELIEF SENIOR EXECUTIVE' : 'Exc',\n",
    "    'BUSINESS MGR' : 'Mgr',\n",
    "    'SR FINANCIAL EXECUTIVE (UT)' : 'Exc',\n",
    "    'SENIOR EXECUTIVE (COMPLIANCE)' : 'Exc',\n",
    "    'ASSISTANT MANAGER' : 'Exc',\n",
    "    'SR S&M EXE' : 'Exc',\n",
    "    'EXECUTIVE (CSU)' : 'Exc',\n",
    "    'RELIEF ASSISTANT MANAGER' : 'Exc',\n",
    "    'ASST SALES & MKTG MGR' : 'Exc',\n",
    "    'DBM, BSM, DEPUTY BSM' : 'Mgr',\n",
    "    'BM' : 'Mgr',\n",
    "    'BIZM' : 'Mgr',\n",
    "    'AM' : 'Exc'\n",
    "}"
   ]
  },
  {
   "cell_type": "code",
   "execution_count": 12,
   "metadata": {},
   "outputs": [],
   "source": [
    "def mask_designation(x):\n",
    "    return job_category[x]\n",
    "\n",
    "original['masked_designation'] = original['Designation'].apply(mask_designation)"
   ]
  },
  {
   "cell_type": "markdown",
   "metadata": {},
   "source": [
    "# Masking actual base with BR = Branch or HO = Head Office"
   ]
  },
  {
   "cell_type": "code",
   "execution_count": 15,
   "metadata": {},
   "outputs": [],
   "source": [
    "def branch_or_ho(x):\n",
    "    if x == \"HEAD OFFICE\":\n",
    "        return \"HO\"\n",
    "    else:\n",
    "        return \"BR\"\n",
    "    \n",
    "original['BR_or_HO'] = original['Branch'].apply(branch_or_ho)"
   ]
  },
  {
   "cell_type": "markdown",
   "metadata": {},
   "source": [
    "# Converting all course names to course codes X, where X = index+1 of list containing unique course names"
   ]
  },
  {
   "cell_type": "code",
   "execution_count": 18,
   "metadata": {},
   "outputs": [
    {
     "data": {
      "text/plain": [
       "966"
      ]
     },
     "execution_count": 18,
     "metadata": {},
     "output_type": "execute_result"
    }
   ],
   "source": [
    "#Creating list of unique course names\n",
    "\n",
    "unique_course = original['Course Name'].unique().tolist()\n",
    "\n",
    "len(unique_course)"
   ]
  },
  {
   "cell_type": "code",
   "execution_count": 19,
   "metadata": {},
   "outputs": [],
   "source": [
    "def assign_course_code(x):\n",
    "    return unique_course.index(x)+1\n",
    "\n",
    "original['course_code'] = original['Course Name'].apply(assign_course_code)"
   ]
  },
  {
   "cell_type": "markdown",
   "metadata": {},
   "source": [
    "# Create new dataframe with masked info only"
   ]
  },
  {
   "cell_type": "code",
   "execution_count": 22,
   "metadata": {},
   "outputs": [],
   "source": [
    "df_masked = original[['masked_id','masked_name','masked_designation','BR_or_HO','course_code','Category', 'Type', 'Credit Days', 'End Date' ]]"
   ]
  },
  {
   "cell_type": "code",
   "execution_count": 23,
   "metadata": {},
   "outputs": [
    {
     "name": "stdout",
     "output_type": "stream",
     "text": [
      "<class 'pandas.core.frame.DataFrame'>\n",
      "RangeIndex: 59170 entries, 0 to 59169\n",
      "Data columns (total 9 columns):\n",
      " #   Column              Non-Null Count  Dtype         \n",
      "---  ------              --------------  -----         \n",
      " 0   masked_id           59170 non-null  int64         \n",
      " 1   masked_name         59170 non-null  object        \n",
      " 2   masked_designation  59170 non-null  object        \n",
      " 3   BR_or_HO            59170 non-null  object        \n",
      " 4   course_code         59170 non-null  int64         \n",
      " 5   Category            59170 non-null  object        \n",
      " 6   Type                59170 non-null  object        \n",
      " 7   Credit Days         59170 non-null  float64       \n",
      " 8   End Date            59170 non-null  datetime64[ns]\n",
      "dtypes: datetime64[ns](1), float64(1), int64(2), object(5)\n",
      "memory usage: 4.1+ MB\n"
     ]
    }
   ],
   "source": [
    "original = None\n",
    "df_masked.info()"
   ]
  },
  {
   "cell_type": "code",
   "execution_count": 29,
   "metadata": {},
   "outputs": [
    {
     "name": "stderr",
     "output_type": "stream",
     "text": [
      "<ipython-input-29-3e0220673874>:1: SettingWithCopyWarning: \n",
      "A value is trying to be set on a copy of a slice from a DataFrame.\n",
      "Try using .loc[row_indexer,col_indexer] = value instead\n",
      "\n",
      "See the caveats in the documentation: https://pandas.pydata.org/pandas-docs/stable/user_guide/indexing.html#returning-a-view-versus-a-copy\n",
      "  df_masked['masked_designation'] = df_masked['masked_designation'].astype('category')\n",
      "<ipython-input-29-3e0220673874>:2: SettingWithCopyWarning: \n",
      "A value is trying to be set on a copy of a slice from a DataFrame.\n",
      "Try using .loc[row_indexer,col_indexer] = value instead\n",
      "\n",
      "See the caveats in the documentation: https://pandas.pydata.org/pandas-docs/stable/user_guide/indexing.html#returning-a-view-versus-a-copy\n",
      "  df_masked['BR_or_HO'] = df_masked['BR_or_HO'].astype('category')\n",
      "<ipython-input-29-3e0220673874>:3: SettingWithCopyWarning: \n",
      "A value is trying to be set on a copy of a slice from a DataFrame.\n",
      "Try using .loc[row_indexer,col_indexer] = value instead\n",
      "\n",
      "See the caveats in the documentation: https://pandas.pydata.org/pandas-docs/stable/user_guide/indexing.html#returning-a-view-versus-a-copy\n",
      "  df_masked['Category'] = df_masked['Category'].astype('category')\n",
      "<ipython-input-29-3e0220673874>:4: SettingWithCopyWarning: \n",
      "A value is trying to be set on a copy of a slice from a DataFrame.\n",
      "Try using .loc[row_indexer,col_indexer] = value instead\n",
      "\n",
      "See the caveats in the documentation: https://pandas.pydata.org/pandas-docs/stable/user_guide/indexing.html#returning-a-view-versus-a-copy\n",
      "  df_masked['Type'] = df_masked['Type'].astype('category')\n"
     ]
    }
   ],
   "source": [
    "df_masked['masked_designation'] = df_masked['masked_designation'].astype('category')\n",
    "df_masked['BR_or_HO'] = df_masked['BR_or_HO'].astype('category')\n",
    "df_masked['Category'] = df_masked['Category'].astype('category')\n",
    "df_masked['Type'] = df_masked['Type'].astype('category')"
   ]
  },
  {
   "cell_type": "code",
   "execution_count": 30,
   "metadata": {},
   "outputs": [
    {
     "name": "stdout",
     "output_type": "stream",
     "text": [
      "<class 'pandas.core.frame.DataFrame'>\n",
      "RangeIndex: 59170 entries, 0 to 59169\n",
      "Data columns (total 9 columns):\n",
      " #   Column              Non-Null Count  Dtype         \n",
      "---  ------              --------------  -----         \n",
      " 0   masked_id           59170 non-null  int64         \n",
      " 1   masked_name         59170 non-null  object        \n",
      " 2   masked_designation  59170 non-null  category      \n",
      " 3   BR_or_HO            59170 non-null  category      \n",
      " 4   course_code         59170 non-null  int64         \n",
      " 5   Category            59170 non-null  category      \n",
      " 6   Type                59170 non-null  category      \n",
      " 7   Credit Days         59170 non-null  float64       \n",
      " 8   End Date            59170 non-null  datetime64[ns]\n",
      "dtypes: category(4), datetime64[ns](1), float64(1), int64(2), object(1)\n",
      "memory usage: 2.5+ MB\n"
     ]
    }
   ],
   "source": [
    "df_masked.info()"
   ]
  },
  {
   "cell_type": "markdown",
   "metadata": {},
   "source": [
    "# Add Columns Year & Month as extracted from End Date"
   ]
  },
  {
   "cell_type": "code",
   "execution_count": 33,
   "metadata": {},
   "outputs": [],
   "source": [
    "df_masked['Year'] = df_masked['End Date'].dt.year"
   ]
  },
  {
   "cell_type": "code",
   "execution_count": 34,
   "metadata": {},
   "outputs": [],
   "source": [
    "df_masked['Month'] = df_masked['End Date'].dt.month"
   ]
  },
  {
   "cell_type": "code",
   "execution_count": 35,
   "metadata": {},
   "outputs": [
    {
     "name": "stdout",
     "output_type": "stream",
     "text": [
      "<class 'pandas.core.frame.DataFrame'>\n",
      "RangeIndex: 59170 entries, 0 to 59169\n",
      "Data columns (total 11 columns):\n",
      " #   Column              Non-Null Count  Dtype         \n",
      "---  ------              --------------  -----         \n",
      " 0   masked_id           59170 non-null  int64         \n",
      " 1   masked_name         59170 non-null  object        \n",
      " 2   masked_designation  59170 non-null  category      \n",
      " 3   BR_or_HO            59170 non-null  category      \n",
      " 4   course_code         59170 non-null  int64         \n",
      " 5   Category            59170 non-null  category      \n",
      " 6   Type                59170 non-null  category      \n",
      " 7   Credit Days         59170 non-null  float64       \n",
      " 8   End Date            59170 non-null  datetime64[ns]\n",
      " 9   Year                59170 non-null  int64         \n",
      " 10  Month               59170 non-null  int64         \n",
      "dtypes: category(4), datetime64[ns](1), float64(1), int64(4), object(1)\n",
      "memory usage: 3.4+ MB\n"
     ]
    }
   ],
   "source": [
    "df_masked.info()"
   ]
  },
  {
   "cell_type": "markdown",
   "metadata": {},
   "source": [
    "# Export masked dataframe to new CSV file"
   ]
  },
  {
   "cell_type": "code",
   "execution_count": 39,
   "metadata": {},
   "outputs": [],
   "source": [
    "df_masked.to_csv(\"maskedconso.csv\", index=False)"
   ]
  },
  {
   "cell_type": "markdown",
   "metadata": {},
   "source": [
    "# The file maskedconso.csv will be used in Part 2 of the project"
   ]
  },
  {
   "cell_type": "code",
   "execution_count": null,
   "metadata": {},
   "outputs": [],
   "source": []
  }
 ],
 "metadata": {
  "kernelspec": {
   "display_name": "Python 3",
   "language": "python",
   "name": "python3"
  },
  "language_info": {
   "codemirror_mode": {
    "name": "ipython",
    "version": 3
   },
   "file_extension": ".py",
   "mimetype": "text/x-python",
   "name": "python",
   "nbconvert_exporter": "python",
   "pygments_lexer": "ipython3",
   "version": "3.8.3"
  }
 },
 "nbformat": 4,
 "nbformat_minor": 4
}
